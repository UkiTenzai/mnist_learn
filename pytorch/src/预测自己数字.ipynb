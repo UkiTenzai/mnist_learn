{
 "cells": [
  {
   "cell_type": "code",
   "execution_count": 21,
   "metadata": {},
   "outputs": [],
   "source": [
    "from matplotlib import pyplot as plt\n",
    "import torch\n",
    "from torch import nn,optim\n",
    "import torch.nn.functional as F\n",
    "from torch.autograd import Variable\n",
    "from torch.utils.data import DataLoader\n",
    "from torchvision import transforms\n",
    "from torchvision import datasets\n",
    "import numpy as np\n",
    "from PIL import Image\n",
    "import os\n",
    "\n",
    "from os import path\n",
    "\n",
    "lenet = nn.Sequential(\n",
    "    nn.Conv2d(1, 6, kernel_size=5, padding=2), nn.ReLU(),\n",
    "    nn.MaxPool2d(kernel_size=2, stride=2),\n",
    "    nn.Conv2d(6, 16, kernel_size=5), nn.ReLU(),\n",
    "    nn.MaxPool2d(kernel_size=2, stride=2),\n",
    "    nn.Flatten(),\n",
    "    nn.Linear(16*5*5, 120), nn.ReLU(),\n",
    "    nn.Linear(120, 84), nn.ReLU(),\n",
    "    nn.Linear(84, 10))\n"
   ]
  },
  {
   "cell_type": "code",
   "execution_count": 23,
   "metadata": {},
   "outputs": [],
   "source": [
    "ckpt = torch.load('../model/CNN_model_weight2.pth.tar')\n",
    "lenet.load_state_dict(ckpt['state_dict'])            #参数加载到指定模型cnn\n",
    "\n",
    "dir_all = '../mydigit/all/'\n",
    "picList = []\n",
    "\n",
    "for filename in os.listdir(dir_all):              #listdir的参数是文件夹的路径\n",
    "    eachpic_name = dir_all+filename\n",
    "    im = Image.open(eachpic_name).resize((28, 28))     #取图片数据\n",
    "    im = im.convert('L')      #灰度图\n",
    "    im_data = np.array(im)\n",
    "    im_data = torch.from_numpy(im_data).float()\n",
    "    picList.append(im_data)\n"
   ]
  },
  {
   "cell_type": "markdown",
   "metadata": {},
   "source": [
    "计算准确率"
   ]
  },
  {
   "cell_type": "code",
   "execution_count": 24,
   "metadata": {},
   "outputs": [
    {
     "name": "stdout",
     "output_type": "stream",
     "text": [
      "wrong: 11.0\n",
      "accuracy: 78.0 %\n"
     ]
    }
   ],
   "source": [
    "correctTable = np.zeros((10,5))\n",
    "n = 0\n",
    "for index,value in enumerate(picList):\n",
    "    value = value.reshape([1, 1, 28, 28])\n",
    "    out = lenet(value)\n",
    "    _, pred = torch.max(out, 1)\n",
    "    pred = pred.numpy().tolist()[0]\n",
    "    numLable = index//5\n",
    "    correctTable[numLable][n] = (pred==numLable)\n",
    "    n = (n+1)%5\n",
    "correct_sum = np.sum(correctTable)\n",
    "print(\"wrong:\",50-correct_sum)\n",
    "print(\"accuracy:\",correct_sum/50*100,\"%\")\n"
   ]
  },
  {
   "cell_type": "markdown",
   "metadata": {},
   "source": [
    "显示图片，预测"
   ]
  },
  {
   "cell_type": "code",
   "execution_count": null,
   "metadata": {},
   "outputs": [],
   "source": [
    "for eachpic in picList:              #listdir的参数是文件夹的路径\n",
    "    plt.figure()\n",
    "    plt.imshow(eachpic)\n",
    "    plt.show()\n",
    "\n",
    "    eachpic = eachpic.view(1, 1, 28, 28)\n",
    "    out = lenet(eachpic)\n",
    "    _, pred = torch.max(out, 1)\n",
    "\n",
    "    print('predict:{}。'.format(pred[0]))"
   ]
  }
 ],
 "metadata": {
  "kernelspec": {
   "display_name": "Python 3.8.13 ('forPytorch')",
   "language": "python",
   "name": "python3"
  },
  "language_info": {
   "codemirror_mode": {
    "name": "ipython",
    "version": 3
   },
   "file_extension": ".py",
   "mimetype": "text/x-python",
   "name": "python",
   "nbconvert_exporter": "python",
   "pygments_lexer": "ipython3",
   "version": "3.8.13"
  },
  "orig_nbformat": 4,
  "vscode": {
   "interpreter": {
    "hash": "74496211297084c3559e7f83ac34619bb0e3ed2315c2a603cee8903d4ea73718"
   }
  }
 },
 "nbformat": 4,
 "nbformat_minor": 2
}
