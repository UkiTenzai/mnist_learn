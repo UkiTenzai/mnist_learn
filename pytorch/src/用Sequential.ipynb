{
 "cells": [
  {
   "cell_type": "code",
   "execution_count": 1,
   "metadata": {},
   "outputs": [],
   "source": [
    "import torch                           # 导入相关库\n",
    "from torch import nn\n",
    "from torchvision import datasets, transforms\n",
    "from torch.utils.data import DataLoader\n",
    "from torch.autograd import Variable\n",
    "from matplotlib import pyplot as plt\n",
    "import numpy as np\n",
    "from torchsummary import summary\n",
    "import os\n"
   ]
  },
  {
   "cell_type": "code",
   "execution_count": 2,
   "metadata": {},
   "outputs": [
    {
     "name": "stdout",
     "output_type": "stream",
     "text": [
      "----------------------------------------------------------------\n",
      "        Layer (type)               Output Shape         Param #\n",
      "================================================================\n",
      "            Conv2d-1            [-1, 6, 28, 28]             156\n",
      "              ReLU-2            [-1, 6, 28, 28]               0\n",
      "         MaxPool2d-3            [-1, 6, 14, 14]               0\n",
      "            Conv2d-4           [-1, 16, 10, 10]           2,416\n",
      "              ReLU-5           [-1, 16, 10, 10]               0\n",
      "         MaxPool2d-6             [-1, 16, 5, 5]               0\n",
      "           Flatten-7                  [-1, 400]               0\n",
      "            Linear-8                  [-1, 120]          48,120\n",
      "              ReLU-9                  [-1, 120]               0\n",
      "           Linear-10                   [-1, 84]          10,164\n",
      "             ReLU-11                   [-1, 84]               0\n",
      "           Linear-12                   [-1, 10]             850\n",
      "================================================================\n",
      "Total params: 61,706\n",
      "Trainable params: 61,706\n",
      "Non-trainable params: 0\n",
      "----------------------------------------------------------------\n",
      "Input size (MB): 0.00\n",
      "Forward/backward pass size (MB): 0.11\n",
      "Params size (MB): 0.24\n",
      "Estimated Total Size (MB): 0.35\n",
      "----------------------------------------------------------------\n"
     ]
    }
   ],
   "source": [
    "lenet = nn.Sequential(\n",
    "    nn.Conv2d(1, 6, kernel_size=5, padding=2), nn.ReLU(),\n",
    "    nn.MaxPool2d(kernel_size=2, stride=2),\n",
    "    nn.Conv2d(6, 16, kernel_size=5), nn.ReLU(),\n",
    "    nn.MaxPool2d(kernel_size=2, stride=2),\n",
    "    nn.Flatten(),\n",
    "    nn.Linear(16*5*5, 120), nn.ReLU(),\n",
    "    nn.Linear(120, 84), nn.ReLU(),\n",
    "    nn.Linear(84, 10))\n",
    "\n",
    "summary(lenet, (1, 28, 28), device=\"cpu\")\n",
    "\n",
    "# 真正训练时size=(1, 1, 28, 28)\n",
    "# 1个样本，1个通道（黑白图），长28，宽28"
   ]
  },
  {
   "cell_type": "code",
   "execution_count": 3,
   "metadata": {},
   "outputs": [],
   "source": [
    "def data_loader(mini_batch_size):\n",
    "    data_tf = transforms.Compose([transforms.ToTensor(), transforms.Normalize([0.5], [0.5])])\n",
    "    # 准备训练数据\n",
    "    train_set = datasets.MNIST('../data', train=True, transform=data_tf, download=False)\n",
    "    # 准备测试数据\n",
    "    test_set = datasets.MNIST('../data', train=False, transform=data_tf, download=False)\n",
    "    # 装载训练集\n",
    "    train_data = DataLoader(train_set, mini_batch_size, shuffle=True)\n",
    "    # 装载测试集\n",
    "    test_data = DataLoader(test_set, mini_batch_size, shuffle=False)\n",
    "    return train_data, test_data\n",
    "    \n",
    "def train(epochs, lenet, mini_batch_size, eta):\n",
    "    train_data, test_data, = data_loader(mini_batch_size)\n",
    "    print(torch.cuda.is_available())\n",
    "    device = torch.device('cuda' if torch.cuda.is_available() else 'cpu')\n",
    "    net = lenet.to(device)\n",
    "    # 设置损失函数\n",
    "    criterion = nn.CrossEntropyLoss()\n",
    "    # 设置网络优化方式\n",
    "    optimizer = torch.optim.Adam(net.parameters(), eta)\n",
    "    losses = []\n",
    "    test_acces = []\n",
    "    for e in range(epochs):\n",
    "        train_loss = 0\n",
    "        for step, (data, label) in enumerate(train_data):\n",
    "            net.train()\n",
    "            data = Variable(data).cuda()\n",
    "            label = Variable(label).cuda()\n",
    "            out = net(data)\n",
    "            loss = criterion(out, label)\n",
    "            optimizer.zero_grad()\n",
    "            loss.backward()\n",
    "            optimizer.step()\n",
    "            train_loss += loss.item()\n",
    "        losses.append(train_loss / (step + 1))\n",
    "        accuracy_test = test_net(net, test_data)\n",
    "        test_acces.append(accuracy_test)\n",
    "        print(\"epoch %d | loss = %.4f, test accuracy is %.3f %%.\" %(e, train_loss / (step + 1), accuracy_test))\n",
    "        ckpt_dir = '../model'\n",
    "        save_path = os.path.join(ckpt_dir, 'CNN_model_weight2.pth.tar') \n",
    "        torch.save({'state_dict': net.state_dict()}, save_path)\n",
    "    return losses, test_acces\n",
    "def test_net(net, test_data):\n",
    "    test_acc = 0\n",
    "    total_1 = 0\n",
    "    for step, (im, labels) in enumerate(test_data):\n",
    "        im = Variable(im).cuda()\n",
    "        labels = Variable(labels).cuda()\n",
    "        net.eval() # 将模型改为预测模式\n",
    "        out = net(im)\n",
    "        pred = out.argmax(1)\n",
    "        total_1 += labels.size(0)\n",
    "        test_acc += (pred == labels).sum()\n",
    "    return 100. * test_acc.cpu().numpy() / total_1\n",
    "\n"
   ]
  },
  {
   "cell_type": "code",
   "execution_count": 4,
   "metadata": {},
   "outputs": [
    {
     "name": "stdout",
     "output_type": "stream",
     "text": [
      "True\n",
      "epoch 0 | loss = 0.2242, test accuracy is 97.850 %.\n",
      "epoch 1 | loss = 0.0660, test accuracy is 98.340 %.\n"
     ]
    },
    {
     "data": {
      "image/png": "[encoded data removed]",
      "text/plain": [
       "<Figure size 432x288 with 1 Axes>"
      ]
     },
     "metadata": {
      "needs_background": "light"
     },
     "output_type": "display_data"
    },
    {
     "data": {
      "image/png": "[encoded data removed]",
      "text/plain": [
       "<Figure size 432x288 with 1 Axes>"
      ]
     },
     "metadata": {
      "needs_background": "light"
     },
     "output_type": "display_data"
    }
   ],
   "source": [
    "if __name__ == '__main__':\n",
    "    epochs = 2\n",
    "    mini_batch_size = 64\n",
    "    eta = 0.001\n",
    "    train__loss, test__accuracy = train(epochs, lenet, mini_batch_size, eta)\n",
    "    plt.figure()\n",
    "    x = range(0, epochs)\n",
    "    plt.plot(x, train__loss)\n",
    "    plt.title('Train Loss-EPOCH')\n",
    "    plt.xlabel('EPOCH(Adam, lr=0.001)')\n",
    "    plt.ylabel('Train Loss')\n",
    "    plt.show()\n",
    "    plt.figure()\n",
    "    plt.plot(x, test__accuracy)\n",
    "    plt.title('Test Accuracy-Epoch')\n",
    "    plt.xlabel('EPOCH(Adam, lr=0.001)')\n",
    "    plt.ylabel('Accuracy')\n",
    "    plt.show()"
   ]
  }
 ],
 "metadata": {
  "interpreter": {
   "hash": "74496211297084c3559e7f83ac34619bb0e3ed2315c2a603cee8903d4ea73718"
  },
  "kernelspec": {
   "display_name": "Python 3.8.13 ('forPytorch')",
   "language": "python",
   "name": "python3"
  },
  "language_info": {
   "codemirror_mode": {
    "name": "ipython",
    "version": 3
   },
   "file_extension": ".py",
   "mimetype": "text/x-python",
   "name": "python",
   "nbconvert_exporter": "python",
   "pygments_lexer": "ipython3",
   "version": "3.8.13"
  },
  "orig_nbformat": 4
 },
 "nbformat": 4,
 "nbformat_minor": 2
}
