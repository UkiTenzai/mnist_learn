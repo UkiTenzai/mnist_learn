{
 "cells": [
  {
   "cell_type": "markdown",
   "metadata": {},
   "source": [
    "#  利用MxNet实现手写数字识别"
   ]
  },
  {
   "cell_type": "markdown",
   "metadata": {},
   "source": [
    "## 一、训练模型"
   ]
  },
  {
   "cell_type": "markdown",
   "metadata": {},
   "source": [
    "#### 导入相应的库"
   ]
  },
  {
   "cell_type": "code",
   "execution_count": 1,
   "metadata": {},
   "outputs": [],
   "source": [
    "import mxnet as mx\n",
    "import numpy as np\n",
    "from mxnet import nd\n",
    "import logging\n",
    "import matplotlib.pyplot as plt\n",
    "import os"
   ]
  },
  {
   "cell_type": "code",
   "execution_count": 2,
   "metadata": {},
   "outputs": [],
   "source": [
    "def get_mnist_iter(data_source,batch_size):\n",
    "    if data_source=='mnist':\n",
    "        #读取MNISIT训练集\n",
    "        train_data = mx.io.MNISTIter(\n",
    "            image='./dataset-mnist/train-images-idx3-ubyte',\n",
    "            label='./dataset-mnist/train-labels-idx1-ubyte',\n",
    "            batch_size=batch_size,\n",
    "            shuffle=1)\n",
    "        #读取MNIST测试集\n",
    "        val_data = mx.io.MNISTIter(\n",
    "            image='./dataset-mnist/t10k-images-idx3-ubyte',\n",
    "            label='./dataset-mnist/t10k-labels-idx1-ubyte',\n",
    "            batch_size=batch_size,\n",
    "            shuffle=0)\n",
    "        return train_data,val_data\n",
    "\n",
    "         "
   ]
  },
  {
   "cell_type": "markdown",
   "metadata": {},
   "source": [
    "显示一张MNIST数据的图片，证明能够正常读取数据"
   ]
  },
  {
   "cell_type": "code",
   "execution_count": 3,
   "metadata": {},
   "outputs": [
    {
     "data": {
      "text/plain": [
       "<matplotlib.image.AxesImage at 0x7f36b7ce72e8>"
      ]
     },
     "execution_count": 3,
     "metadata": {},
     "output_type": "execute_result"
    },
    {
     "name": "stderr",
     "output_type": "stream",
     "text": [
      "/home/ma-user/anaconda3/envs/MXNet-1.2.1/lib/python3.6/site-packages/matplotlib/image.py:425: DeprecationWarning: np.asscalar(a) is deprecated since NumPy v1.16, use a.item() instead\n",
      "  a_min = np.asscalar(a_min.astype(scaled_dtype))\n",
      "/home/ma-user/anaconda3/envs/MXNet-1.2.1/lib/python3.6/site-packages/matplotlib/image.py:426: DeprecationWarning: np.asscalar(a) is deprecated since NumPy v1.16, use a.item() instead\n",
      "  a_max = np.asscalar(a_max.astype(scaled_dtype))\n"
     ]
    },
    {
     "data": {
      "image/png": "[encoded data removed]",
      "text/plain": [
       "<Figure size 432x288 with 1 Axes>"
      ]
     },
     "metadata": {},
     "output_type": "display_data"
    }
   ],
   "source": [
    "def plot_single_img():\n",
    "    \n",
    "    view_data=mx.io.MNISTIter(image='./dataset-mnist/train-images-idx3-ubyte',\n",
    "                              label='./dataset-mnist/train-labels-idx1-ubyte',\n",
    "                              batch_size=1)\n",
    "    data_1=next(view_data)#从迭代器中取出数据使用next()函数\n",
    "    data_2=data_1.data\n",
    "    data_2=data_2[0][0][0][:][:]#降维成28*28\n",
    "    data_4=data_2.asnumpy()\n",
    "    return(data_4)\n",
    "plt.imshow(plot_single_img())"
   ]
  },
  {
   "cell_type": "code",
   "execution_count": 4,
   "metadata": {},
   "outputs": [],
   "source": [
    "#搭建lenet-5网络\n",
    "def get_conv_symbol(num_classes=10):\n",
    "    data = mx.sym.var('data')\n",
    "\n",
    "    conv1 = mx.sym.Convolution(data=data, kernel=(3, 3), num_filter=10)\n",
    "    relu1= mx.sym.Activation(data=conv1, act_type='relu')\n",
    "    pool1 = mx.sym.Pooling(data=relu1, pool_type='max', kernel=(2, 2), stride=(2, 2))\n",
    "    \n",
    "    flatten = mx.sym.flatten(data=pool1)\n",
    "\n",
    "    fc1 = mx.symbol.FullyConnected(data=flatten, num_hidden=num_classes)\n",
    "    relu2= mx.sym.Activation(data=fc1, act_type='relu')\n",
    "\n",
    "    out = mx.sym.SoftmaxOutput(data=fc1, name='softmax')\n",
    "    return out"
   ]
  },
  {
   "cell_type": "code",
   "execution_count": null,
   "metadata": {},
   "outputs": [],
   "source": [
    "\n",
    "logging.getLogger().setLevel(logging.DEBUG)\n",
    "conv=get_conv_symbol()\n",
    "train_data,val_data=get_mnist_iter(data_source='mnist',batch_size=100)\n",
    "devs = mx.gpu() \n",
    "conv_model = mx.mod.Module(symbol=conv, context=devs)\n",
    "checkpoint=mx.callback.do_checkpoint('./output/')\n",
    "batch_size=100\n",
    "conv_model.fit(train_data=train_data,\n",
    "              eval_data=val_data,\n",
    "              optimizer='adam',#可选择不同优化器，adam,sgd\n",
    "              optimizer_params={'learning_rate': 0.001},#可调整超参数学习率\n",
    "              eval_metric=['acc','ce'],#准确率，交叉熵\n",
    "              batch_end_callback=mx.callback.Speedometer(batch_size, 100),#每100批数据显示一次结果\n",
    "              num_epoch=100,#训练轮数 \n",
    "              epoch_end_callback=checkpoint)#模型保存路径"
   ]
  }
 ],
 "metadata": {
  "interpreter": {
   "hash": "b3ba2566441a7c06988d0923437866b63cedc61552a5af99d1f4fb67d367b25f"
  },
  "kernelspec": {
   "display_name": "MXNet-1.2.1",
   "language": "python",
   "name": "mxnet-1.2.1"
  },
  "language_info": {
   "codemirror_mode": {
    "name": "ipython",
    "version": 3
   },
   "file_extension": ".py",
   "mimetype": "text/x-python",
   "name": "python",
   "nbconvert_exporter": "python",
   "pygments_lexer": "ipython3",
   "version": "3.6.4"
  }
 },
 "nbformat": 4,
 "nbformat_minor": 4
}
